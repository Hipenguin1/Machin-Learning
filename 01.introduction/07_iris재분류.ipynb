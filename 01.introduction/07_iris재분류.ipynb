{
 "metadata": {
  "language_info": {
   "codemirror_mode": {
    "name": "ipython",
    "version": 3
   },
   "file_extension": ".py",
   "mimetype": "text/x-python",
   "name": "python",
   "nbconvert_exporter": "python",
   "pygments_lexer": "ipython3",
   "version": "3.8.5"
  },
  "orig_nbformat": 4,
  "kernelspec": {
   "name": "python3",
   "display_name": "Python 3.8.5 64-bit ('base': conda)"
  },
  "interpreter": {
   "hash": "8c1eae21719a0790335dcb83aad72b63b602cfe5cdb2bda0f60bc11d4f154e4b"
  }
 },
 "nbformat": 4,
 "nbformat_minor": 2,
 "cells": [
  {
   "source": [
    "# Iris 분류\n",
    "- test 비율은 20%, \n",
    "- MinMaxScaler 적용\n",
    "- cv = 5\n",
    "- 결정트리 - max_depth, min_samples_split\n",
    "- 최적의 파라메터와 정확도 계산 "
   ],
   "cell_type": "markdown",
   "metadata": {}
  },
  {
   "source": [
    "### 1. 데이터 전처리"
   ],
   "cell_type": "markdown",
   "metadata": {}
  },
  {
   "cell_type": "code",
   "execution_count": 7,
   "metadata": {},
   "outputs": [],
   "source": [
    "from sklearn.datasets import load_iris\n",
    "iris = load_iris()"
   ]
  },
  {
   "cell_type": "code",
   "execution_count": 9,
   "metadata": {},
   "outputs": [
    {
     "output_type": "execute_result",
     "data": {
      "text/plain": [
       "     sepal length (cm)  sepal width (cm)  petal length (cm)  petal width (cm)\n",
       "0                  5.1               3.5                1.4               0.2\n",
       "1                  4.9               3.0                1.4               0.2\n",
       "2                  4.7               3.2                1.3               0.2\n",
       "3                  4.6               3.1                1.5               0.2\n",
       "4                  5.0               3.6                1.4               0.2\n",
       "..                 ...               ...                ...               ...\n",
       "145                6.7               3.0                5.2               2.3\n",
       "146                6.3               2.5                5.0               1.9\n",
       "147                6.5               3.0                5.2               2.0\n",
       "148                6.2               3.4                5.4               2.3\n",
       "149                5.9               3.0                5.1               1.8\n",
       "\n",
       "[150 rows x 4 columns]"
      ],
      "text/html": "<div>\n<style scoped>\n    .dataframe tbody tr th:only-of-type {\n        vertical-align: middle;\n    }\n\n    .dataframe tbody tr th {\n        vertical-align: top;\n    }\n\n    .dataframe thead th {\n        text-align: right;\n    }\n</style>\n<table border=\"1\" class=\"dataframe\">\n  <thead>\n    <tr style=\"text-align: right;\">\n      <th></th>\n      <th>sepal length (cm)</th>\n      <th>sepal width (cm)</th>\n      <th>petal length (cm)</th>\n      <th>petal width (cm)</th>\n    </tr>\n  </thead>\n  <tbody>\n    <tr>\n      <th>0</th>\n      <td>5.1</td>\n      <td>3.5</td>\n      <td>1.4</td>\n      <td>0.2</td>\n    </tr>\n    <tr>\n      <th>1</th>\n      <td>4.9</td>\n      <td>3.0</td>\n      <td>1.4</td>\n      <td>0.2</td>\n    </tr>\n    <tr>\n      <th>2</th>\n      <td>4.7</td>\n      <td>3.2</td>\n      <td>1.3</td>\n      <td>0.2</td>\n    </tr>\n    <tr>\n      <th>3</th>\n      <td>4.6</td>\n      <td>3.1</td>\n      <td>1.5</td>\n      <td>0.2</td>\n    </tr>\n    <tr>\n      <th>4</th>\n      <td>5.0</td>\n      <td>3.6</td>\n      <td>1.4</td>\n      <td>0.2</td>\n    </tr>\n    <tr>\n      <th>...</th>\n      <td>...</td>\n      <td>...</td>\n      <td>...</td>\n      <td>...</td>\n    </tr>\n    <tr>\n      <th>145</th>\n      <td>6.7</td>\n      <td>3.0</td>\n      <td>5.2</td>\n      <td>2.3</td>\n    </tr>\n    <tr>\n      <th>146</th>\n      <td>6.3</td>\n      <td>2.5</td>\n      <td>5.0</td>\n      <td>1.9</td>\n    </tr>\n    <tr>\n      <th>147</th>\n      <td>6.5</td>\n      <td>3.0</td>\n      <td>5.2</td>\n      <td>2.0</td>\n    </tr>\n    <tr>\n      <th>148</th>\n      <td>6.2</td>\n      <td>3.4</td>\n      <td>5.4</td>\n      <td>2.3</td>\n    </tr>\n    <tr>\n      <th>149</th>\n      <td>5.9</td>\n      <td>3.0</td>\n      <td>5.1</td>\n      <td>1.8</td>\n    </tr>\n  </tbody>\n</table>\n<p>150 rows × 4 columns</p>\n</div>"
     },
     "metadata": {},
     "execution_count": 9
    }
   ],
   "source": []
  },
  {
   "cell_type": "code",
   "execution_count": 13,
   "metadata": {},
   "outputs": [
    {
     "output_type": "execute_result",
     "data": {
      "text/plain": [
       "   sepal length (cm)  sepal width (cm)  petal length (cm)  petal width (cm)  \\\n",
       "0                5.1               3.5                1.4               0.2   \n",
       "1                4.9               3.0                1.4               0.2   \n",
       "2                4.7               3.2                1.3               0.2   \n",
       "3                4.6               3.1                1.5               0.2   \n",
       "4                5.0               3.6                1.4               0.2   \n",
       "\n",
       "   target  \n",
       "0       0  \n",
       "1       0  \n",
       "2       0  \n",
       "3       0  \n",
       "4       0  "
      ],
      "text/html": "<div>\n<style scoped>\n    .dataframe tbody tr th:only-of-type {\n        vertical-align: middle;\n    }\n\n    .dataframe tbody tr th {\n        vertical-align: top;\n    }\n\n    .dataframe thead th {\n        text-align: right;\n    }\n</style>\n<table border=\"1\" class=\"dataframe\">\n  <thead>\n    <tr style=\"text-align: right;\">\n      <th></th>\n      <th>sepal length (cm)</th>\n      <th>sepal width (cm)</th>\n      <th>petal length (cm)</th>\n      <th>petal width (cm)</th>\n      <th>target</th>\n    </tr>\n  </thead>\n  <tbody>\n    <tr>\n      <th>0</th>\n      <td>5.1</td>\n      <td>3.5</td>\n      <td>1.4</td>\n      <td>0.2</td>\n      <td>0</td>\n    </tr>\n    <tr>\n      <th>1</th>\n      <td>4.9</td>\n      <td>3.0</td>\n      <td>1.4</td>\n      <td>0.2</td>\n      <td>0</td>\n    </tr>\n    <tr>\n      <th>2</th>\n      <td>4.7</td>\n      <td>3.2</td>\n      <td>1.3</td>\n      <td>0.2</td>\n      <td>0</td>\n    </tr>\n    <tr>\n      <th>3</th>\n      <td>4.6</td>\n      <td>3.1</td>\n      <td>1.5</td>\n      <td>0.2</td>\n      <td>0</td>\n    </tr>\n    <tr>\n      <th>4</th>\n      <td>5.0</td>\n      <td>3.6</td>\n      <td>1.4</td>\n      <td>0.2</td>\n      <td>0</td>\n    </tr>\n  </tbody>\n</table>\n</div>"
     },
     "metadata": {},
     "execution_count": 13
    }
   ],
   "source": [
    "df['target']= iris.target # iris.target은 붓꽃 데이터 세트에서 레이블(결정값) 데이터를 numpy로 가지고 있음 \n",
    "df.head()"
   ]
  },
  {
   "source": [
    "### 1-1 전처리 scaler"
   ],
   "cell_type": "markdown",
   "metadata": {}
  },
  {
   "cell_type": "code",
   "execution_count": 16,
   "metadata": {},
   "outputs": [],
   "source": [
    "from sklearn.preprocessing import MinMaxScaler\n",
    "scler = MinMaxScaler"
   ]
  },
  {
   "cell_type": "code",
   "execution_count": 17,
   "metadata": {},
   "outputs": [],
   "source": [
    "from sklearn.preprocessing import MinMaxScaler\n",
    "mm_scaler = MinMaxScaler()\n",
    "iris_scaled = mm_scaler.fit_transform(iris.data)"
   ]
  },
  {
   "cell_type": "code",
   "execution_count": 21,
   "metadata": {},
   "outputs": [
    {
     "output_type": "execute_result",
     "data": {
      "text/plain": [
       "   sepal length (cm)  sepal width (cm)  petal length (cm)  petal width (cm)  \\\n",
       "0           0.222222          0.625000           0.067797          0.041667   \n",
       "1           0.166667          0.416667           0.067797          0.041667   \n",
       "2           0.111111          0.500000           0.050847          0.041667   \n",
       "3           0.083333          0.458333           0.084746          0.041667   \n",
       "4           0.194444          0.666667           0.067797          0.041667   \n",
       "\n",
       "   target  \n",
       "0       0  \n",
       "1       0  \n",
       "2       0  \n",
       "3       0  \n",
       "4       0  "
      ],
      "text/html": "<div>\n<style scoped>\n    .dataframe tbody tr th:only-of-type {\n        vertical-align: middle;\n    }\n\n    .dataframe tbody tr th {\n        vertical-align: top;\n    }\n\n    .dataframe thead th {\n        text-align: right;\n    }\n</style>\n<table border=\"1\" class=\"dataframe\">\n  <thead>\n    <tr style=\"text-align: right;\">\n      <th></th>\n      <th>sepal length (cm)</th>\n      <th>sepal width (cm)</th>\n      <th>petal length (cm)</th>\n      <th>petal width (cm)</th>\n      <th>target</th>\n    </tr>\n  </thead>\n  <tbody>\n    <tr>\n      <th>0</th>\n      <td>0.222222</td>\n      <td>0.625000</td>\n      <td>0.067797</td>\n      <td>0.041667</td>\n      <td>0</td>\n    </tr>\n    <tr>\n      <th>1</th>\n      <td>0.166667</td>\n      <td>0.416667</td>\n      <td>0.067797</td>\n      <td>0.041667</td>\n      <td>0</td>\n    </tr>\n    <tr>\n      <th>2</th>\n      <td>0.111111</td>\n      <td>0.500000</td>\n      <td>0.050847</td>\n      <td>0.041667</td>\n      <td>0</td>\n    </tr>\n    <tr>\n      <th>3</th>\n      <td>0.083333</td>\n      <td>0.458333</td>\n      <td>0.084746</td>\n      <td>0.041667</td>\n      <td>0</td>\n    </tr>\n    <tr>\n      <th>4</th>\n      <td>0.194444</td>\n      <td>0.666667</td>\n      <td>0.067797</td>\n      <td>0.041667</td>\n      <td>0</td>\n    </tr>\n  </tbody>\n</table>\n</div>"
     },
     "metadata": {},
     "execution_count": 21
    }
   ],
   "source": [
    "df2 = pd.DataFrame(iris_scaled, columns = iris.feature_names)\n",
    "df2['target']= iris.target\n",
    "df2.head()\n"
   ]
  },
  {
   "cell_type": "code",
   "execution_count": 22,
   "metadata": {},
   "outputs": [
    {
     "output_type": "execute_result",
     "data": {
      "text/plain": [
       "0    50\n",
       "1    50\n",
       "2    50\n",
       "Name: target, dtype: int64"
      ]
     },
     "metadata": {},
     "execution_count": 22
    }
   ],
   "source": [
    "df.target.value_counts()"
   ]
  },
  {
   "source": [
    "### 2. Train/Test 데이터셋으로 분리 "
   ],
   "cell_type": "markdown",
   "metadata": {}
  },
  {
   "cell_type": "code",
   "execution_count": 24,
   "metadata": {},
   "outputs": [],
   "source": [
    "from sklearn.model_selection import train_test_split\n",
    "X_train,X_test,y_train,y_test = train_test_split(\n",
    "    iris.data, iris.target, stratify=iris.target, test_size=0.2, random_state=2021\n",
    ") # 데이터 불균형할 때 stratify\n"
   ]
  },
  {
   "source": [
    "### 3. 모델을 생성하고 학습"
   ],
   "cell_type": "markdown",
   "metadata": {}
  },
  {
   "cell_type": "code",
   "execution_count": 25,
   "metadata": {},
   "outputs": [],
   "source": [
    "from sklearn.tree import DecisionTreeClassifier"
   ]
  },
  {
   "cell_type": "code",
   "execution_count": 26,
   "metadata": {},
   "outputs": [
    {
     "output_type": "execute_result",
     "data": {
      "text/plain": [
       "DecisionTreeClassifier(random_state=2021)"
      ]
     },
     "metadata": {},
     "execution_count": 26
    }
   ],
   "source": [
    "dtc = DecisionTreeClassifier(random_state=2021)\n",
    "dtc.fit(X_train,y_train) # argument xtrain ytrain"
   ]
  },
  {
   "source": [
    "### 4. 학습된 모델로 예측 "
   ],
   "cell_type": "markdown",
   "metadata": {}
  },
  {
   "cell_type": "code",
   "execution_count": 28,
   "metadata": {},
   "outputs": [
    {
     "output_type": "execute_result",
     "data": {
      "text/plain": [
       "array([0, 1, 2, 2, 0, 1, 0, 1, 2, 0, 1, 1, 1, 2, 1, 0, 2, 0, 2, 0, 1, 2,\n",
       "       0, 2, 1, 0, 1, 1, 2, 0])"
      ]
     },
     "metadata": {},
     "execution_count": 28
    }
   ],
   "source": [
    "pred = dtc.predict(X_test)\n",
    "pred"
   ]
  },
  {
   "source": [
    "### 3~5 하이퍼 파라미터 동시에 "
   ],
   "cell_type": "markdown",
   "metadata": {}
  },
  {
   "cell_type": "code",
   "execution_count": 29,
   "metadata": {},
   "outputs": [],
   "source": [
    "from sklearn.model_selection import GridSearchCV"
   ]
  },
  {
   "cell_type": "code",
   "execution_count": 30,
   "metadata": {},
   "outputs": [],
   "source": [
    "params = {\n",
    "    'max_depth':[2,4,6],\n",
    "    'min_samples_split': [2,3,4]\n",
    "}"
   ]
  },
  {
   "cell_type": "code",
   "execution_count": 31,
   "metadata": {},
   "outputs": [
    {
     "output_type": "execute_result",
     "data": {
      "text/plain": [
       "GridSearchCV(cv=5, estimator=DecisionTreeClassifier(random_state=2021),\n",
       "             param_grid={'max_depth': [2, 4, 6],\n",
       "                         'min_samples_split': [2, 3, 4]})"
      ]
     },
     "metadata": {},
     "execution_count": 31
    }
   ],
   "source": [
    "dtc = DecisionTreeClassifier(random_state=2021)\n",
    "grid_dtc = GridSearchCV(dtc,param_grid=params,cv=5)\n",
    "grid_dtc.fit(X_train,y_train)"
   ]
  },
  {
   "cell_type": "code",
   "execution_count": 32,
   "metadata": {},
   "outputs": [
    {
     "output_type": "execute_result",
     "data": {
      "text/plain": [
       "0.9666666666666668"
      ]
     },
     "metadata": {},
     "execution_count": 32
    }
   ],
   "source": [
    "grid_dtc.best_score_"
   ]
  },
  {
   "source": [
    "---------------------------------------------"
   ],
   "cell_type": "markdown",
   "metadata": {}
  },
  {
   "source": [
    "- 전처리"
   ],
   "cell_type": "markdown",
   "metadata": {}
  },
  {
   "cell_type": "code",
   "execution_count": 4,
   "metadata": {},
   "outputs": [],
   "source": [
    "from sklearn.datasets import load_iris\n",
    "iris = load_iris()"
   ]
  },
  {
   "cell_type": "code",
   "execution_count": 5,
   "metadata": {},
   "outputs": [],
   "source": [
    "from sklearn.preprocessing import MinMaxScaler\n",
    "scaler = MinMaxScaler()\n",
    "iris_scaled = scaler.fit_transform(iris.data)"
   ]
  },
  {
   "source": [
    "- train/test data 분리"
   ],
   "cell_type": "markdown",
   "metadata": {}
  },
  {
   "cell_type": "code",
   "execution_count": 6,
   "metadata": {},
   "outputs": [],
   "source": [
    "from sklearn.model_selection import train_test_split\n",
    "X_train,X_test,y_train,y_test = train_test_split(\n",
    "    iris.data, iris.target, stratify=iris.target, test_size=0.2, random_state=2021\n",
    ") # 데이터 불균형할 때 stratify\n"
   ]
  },
  {
   "cell_type": "code",
   "execution_count": 7,
   "metadata": {},
   "outputs": [
    {
     "output_type": "execute_result",
     "data": {
      "text/plain": [
       "((120, 4), (30, 4), (120,), (30,))"
      ]
     },
     "metadata": {},
     "execution_count": 7
    }
   ],
   "source": [
    "X_train.shape, X_test.shape, y_train.shape, y_test.shape"
   ]
  },
  {
   "source": [
    "- 학습 후 최적 모델 도출"
   ],
   "cell_type": "markdown",
   "metadata": {}
  },
  {
   "cell_type": "code",
   "execution_count": 8,
   "metadata": {},
   "outputs": [],
   "source": [
    "from sklearn.tree import DecisionTreeClassifier\n",
    "from sklearn.model_selection import GridSearchCV"
   ]
  },
  {
   "cell_type": "code",
   "execution_count": 9,
   "metadata": {},
   "outputs": [],
   "source": [
    "params = {\n",
    "    'max_depth':[2,3,4],\n",
    "    'min_samples_split': [1,2,3]\n",
    "}"
   ]
  },
  {
   "cell_type": "code",
   "execution_count": 10,
   "metadata": {},
   "outputs": [],
   "source": [
    "dtc = DecisionTreeClassifier(random_state=2021)\n"
   ]
  },
  {
   "cell_type": "code",
   "execution_count": 11,
   "metadata": {},
   "outputs": [],
   "source": [
    "grid_dtc = GridSearchCV(dtc, param_grid=params,\n",
    "                        cv=5)"
   ]
  },
  {
   "cell_type": "code",
   "execution_count": 12,
   "metadata": {},
   "outputs": [
    {
     "output_type": "stream",
     "name": "stderr",
     "text": [
      "C:\\Users\\CPB06GameN\\miniconda3\\lib\\site-packages\\sklearn\\model_selection\\_validation.py:615: FitFailedWarning: Estimator fit failed. The score on this train-test partition for these parameters will be set to nan. Details: \nTraceback (most recent call last):\n  File \"C:\\Users\\CPB06GameN\\miniconda3\\lib\\site-packages\\sklearn\\model_selection\\_validation.py\", line 598, in _fit_and_score\n    estimator.fit(X_train, y_train, **fit_params)\n  File \"C:\\Users\\CPB06GameN\\miniconda3\\lib\\site-packages\\sklearn\\tree\\_classes.py\", line 903, in fit\n    super().fit(\n  File \"C:\\Users\\CPB06GameN\\miniconda3\\lib\\site-packages\\sklearn\\tree\\_classes.py\", line 238, in fit\n    raise ValueError(\"min_samples_split must be an integer \"\nValueError: min_samples_split must be an integer greater than 1 or a float in (0.0, 1.0]; got the integer 1\n\n  warnings.warn(\"Estimator fit failed. The score on this train-test\"\nC:\\Users\\CPB06GameN\\miniconda3\\lib\\site-packages\\sklearn\\model_selection\\_validation.py:615: FitFailedWarning: Estimator fit failed. The score on this train-test partition for these parameters will be set to nan. Details: \nTraceback (most recent call last):\n  File \"C:\\Users\\CPB06GameN\\miniconda3\\lib\\site-packages\\sklearn\\model_selection\\_validation.py\", line 598, in _fit_and_score\n    estimator.fit(X_train, y_train, **fit_params)\n  File \"C:\\Users\\CPB06GameN\\miniconda3\\lib\\site-packages\\sklearn\\tree\\_classes.py\", line 903, in fit\n    super().fit(\n  File \"C:\\Users\\CPB06GameN\\miniconda3\\lib\\site-packages\\sklearn\\tree\\_classes.py\", line 238, in fit\n    raise ValueError(\"min_samples_split must be an integer \"\nValueError: min_samples_split must be an integer greater than 1 or a float in (0.0, 1.0]; got the integer 1\n\n  warnings.warn(\"Estimator fit failed. The score on this train-test\"\nC:\\Users\\CPB06GameN\\miniconda3\\lib\\site-packages\\sklearn\\model_selection\\_validation.py:615: FitFailedWarning: Estimator fit failed. The score on this train-test partition for these parameters will be set to nan. Details: \nTraceback (most recent call last):\n  File \"C:\\Users\\CPB06GameN\\miniconda3\\lib\\site-packages\\sklearn\\model_selection\\_validation.py\", line 598, in _fit_and_score\n    estimator.fit(X_train, y_train, **fit_params)\n  File \"C:\\Users\\CPB06GameN\\miniconda3\\lib\\site-packages\\sklearn\\tree\\_classes.py\", line 903, in fit\n    super().fit(\n  File \"C:\\Users\\CPB06GameN\\miniconda3\\lib\\site-packages\\sklearn\\tree\\_classes.py\", line 238, in fit\n    raise ValueError(\"min_samples_split must be an integer \"\nValueError: min_samples_split must be an integer greater than 1 or a float in (0.0, 1.0]; got the integer 1\n\n  warnings.warn(\"Estimator fit failed. The score on this train-test\"\nC:\\Users\\CPB06GameN\\miniconda3\\lib\\site-packages\\sklearn\\model_selection\\_validation.py:615: FitFailedWarning: Estimator fit failed. The score on this train-test partition for these parameters will be set to nan. Details: \nTraceback (most recent call last):\n  File \"C:\\Users\\CPB06GameN\\miniconda3\\lib\\site-packages\\sklearn\\model_selection\\_validation.py\", line 598, in _fit_and_score\n    estimator.fit(X_train, y_train, **fit_params)\n  File \"C:\\Users\\CPB06GameN\\miniconda3\\lib\\site-packages\\sklearn\\tree\\_classes.py\", line 903, in fit\n    super().fit(\n  File \"C:\\Users\\CPB06GameN\\miniconda3\\lib\\site-packages\\sklearn\\tree\\_classes.py\", line 238, in fit\n    raise ValueError(\"min_samples_split must be an integer \"\nValueError: min_samples_split must be an integer greater than 1 or a float in (0.0, 1.0]; got the integer 1\n\n  warnings.warn(\"Estimator fit failed. The score on this train-test\"\nC:\\Users\\CPB06GameN\\miniconda3\\lib\\site-packages\\sklearn\\model_selection\\_validation.py:615: FitFailedWarning: Estimator fit failed. The score on this train-test partition for these parameters will be set to nan. Details: \nTraceback (most recent call last):\n  File \"C:\\Users\\CPB06GameN\\miniconda3\\lib\\site-packages\\sklearn\\model_selection\\_validation.py\", line 598, in _fit_and_score\n    estimator.fit(X_train, y_train, **fit_params)\n  File \"C:\\Users\\CPB06GameN\\miniconda3\\lib\\site-packages\\sklearn\\tree\\_classes.py\", line 903, in fit\n    super().fit(\n  File \"C:\\Users\\CPB06GameN\\miniconda3\\lib\\site-packages\\sklearn\\tree\\_classes.py\", line 238, in fit\n    raise ValueError(\"min_samples_split must be an integer \"\nValueError: min_samples_split must be an integer greater than 1 or a float in (0.0, 1.0]; got the integer 1\n\n  warnings.warn(\"Estimator fit failed. The score on this train-test\"\nC:\\Users\\CPB06GameN\\miniconda3\\lib\\site-packages\\sklearn\\model_selection\\_validation.py:615: FitFailedWarning: Estimator fit failed. The score on this train-test partition for these parameters will be set to nan. Details: \nTraceback (most recent call last):\n  File \"C:\\Users\\CPB06GameN\\miniconda3\\lib\\site-packages\\sklearn\\model_selection\\_validation.py\", line 598, in _fit_and_score\n    estimator.fit(X_train, y_train, **fit_params)\n  File \"C:\\Users\\CPB06GameN\\miniconda3\\lib\\site-packages\\sklearn\\tree\\_classes.py\", line 903, in fit\n    super().fit(\n  File \"C:\\Users\\CPB06GameN\\miniconda3\\lib\\site-packages\\sklearn\\tree\\_classes.py\", line 238, in fit\n    raise ValueError(\"min_samples_split must be an integer \"\nValueError: min_samples_split must be an integer greater than 1 or a float in (0.0, 1.0]; got the integer 1\n\n  warnings.warn(\"Estimator fit failed. The score on this train-test\"\nC:\\Users\\CPB06GameN\\miniconda3\\lib\\site-packages\\sklearn\\model_selection\\_validation.py:615: FitFailedWarning: Estimator fit failed. The score on this train-test partition for these parameters will be set to nan. Details: \nTraceback (most recent call last):\n  File \"C:\\Users\\CPB06GameN\\miniconda3\\lib\\site-packages\\sklearn\\model_selection\\_validation.py\", line 598, in _fit_and_score\n    estimator.fit(X_train, y_train, **fit_params)\n  File \"C:\\Users\\CPB06GameN\\miniconda3\\lib\\site-packages\\sklearn\\tree\\_classes.py\", line 903, in fit\n    super().fit(\n  File \"C:\\Users\\CPB06GameN\\miniconda3\\lib\\site-packages\\sklearn\\tree\\_classes.py\", line 238, in fit\n    raise ValueError(\"min_samples_split must be an integer \"\nValueError: min_samples_split must be an integer greater than 1 or a float in (0.0, 1.0]; got the integer 1\n\n  warnings.warn(\"Estimator fit failed. The score on this train-test\"\nC:\\Users\\CPB06GameN\\miniconda3\\lib\\site-packages\\sklearn\\model_selection\\_validation.py:615: FitFailedWarning: Estimator fit failed. The score on this train-test partition for these parameters will be set to nan. Details: \nTraceback (most recent call last):\n  File \"C:\\Users\\CPB06GameN\\miniconda3\\lib\\site-packages\\sklearn\\model_selection\\_validation.py\", line 598, in _fit_and_score\n    estimator.fit(X_train, y_train, **fit_params)\n  File \"C:\\Users\\CPB06GameN\\miniconda3\\lib\\site-packages\\sklearn\\tree\\_classes.py\", line 903, in fit\n    super().fit(\n  File \"C:\\Users\\CPB06GameN\\miniconda3\\lib\\site-packages\\sklearn\\tree\\_classes.py\", line 238, in fit\n    raise ValueError(\"min_samples_split must be an integer \"\nValueError: min_samples_split must be an integer greater than 1 or a float in (0.0, 1.0]; got the integer 1\n\n  warnings.warn(\"Estimator fit failed. The score on this train-test\"\nC:\\Users\\CPB06GameN\\miniconda3\\lib\\site-packages\\sklearn\\model_selection\\_validation.py:615: FitFailedWarning: Estimator fit failed. The score on this train-test partition for these parameters will be set to nan. Details: \nTraceback (most recent call last):\n  File \"C:\\Users\\CPB06GameN\\miniconda3\\lib\\site-packages\\sklearn\\model_selection\\_validation.py\", line 598, in _fit_and_score\n    estimator.fit(X_train, y_train, **fit_params)\n  File \"C:\\Users\\CPB06GameN\\miniconda3\\lib\\site-packages\\sklearn\\tree\\_classes.py\", line 903, in fit\n    super().fit(\n  File \"C:\\Users\\CPB06GameN\\miniconda3\\lib\\site-packages\\sklearn\\tree\\_classes.py\", line 238, in fit\n    raise ValueError(\"min_samples_split must be an integer \"\nValueError: min_samples_split must be an integer greater than 1 or a float in (0.0, 1.0]; got the integer 1\n\n  warnings.warn(\"Estimator fit failed. The score on this train-test\"\nC:\\Users\\CPB06GameN\\miniconda3\\lib\\site-packages\\sklearn\\model_selection\\_validation.py:615: FitFailedWarning: Estimator fit failed. The score on this train-test partition for these parameters will be set to nan. Details: \nTraceback (most recent call last):\n  File \"C:\\Users\\CPB06GameN\\miniconda3\\lib\\site-packages\\sklearn\\model_selection\\_validation.py\", line 598, in _fit_and_score\n    estimator.fit(X_train, y_train, **fit_params)\n  File \"C:\\Users\\CPB06GameN\\miniconda3\\lib\\site-packages\\sklearn\\tree\\_classes.py\", line 903, in fit\n    super().fit(\n  File \"C:\\Users\\CPB06GameN\\miniconda3\\lib\\site-packages\\sklearn\\tree\\_classes.py\", line 238, in fit\n    raise ValueError(\"min_samples_split must be an integer \"\nValueError: min_samples_split must be an integer greater than 1 or a float in (0.0, 1.0]; got the integer 1\n\n  warnings.warn(\"Estimator fit failed. The score on this train-test\"\nC:\\Users\\CPB06GameN\\miniconda3\\lib\\site-packages\\sklearn\\model_selection\\_validation.py:615: FitFailedWarning: Estimator fit failed. The score on this train-test partition for these parameters will be set to nan. Details: \nTraceback (most recent call last):\n  File \"C:\\Users\\CPB06GameN\\miniconda3\\lib\\site-packages\\sklearn\\model_selection\\_validation.py\", line 598, in _fit_and_score\n    estimator.fit(X_train, y_train, **fit_params)\n  File \"C:\\Users\\CPB06GameN\\miniconda3\\lib\\site-packages\\sklearn\\tree\\_classes.py\", line 903, in fit\n    super().fit(\n  File \"C:\\Users\\CPB06GameN\\miniconda3\\lib\\site-packages\\sklearn\\tree\\_classes.py\", line 238, in fit\n    raise ValueError(\"min_samples_split must be an integer \"\nValueError: min_samples_split must be an integer greater than 1 or a float in (0.0, 1.0]; got the integer 1\n\n  warnings.warn(\"Estimator fit failed. The score on this train-test\"\nC:\\Users\\CPB06GameN\\miniconda3\\lib\\site-packages\\sklearn\\model_selection\\_validation.py:615: FitFailedWarning: Estimator fit failed. The score on this train-test partition for these parameters will be set to nan. Details: \nTraceback (most recent call last):\n  File \"C:\\Users\\CPB06GameN\\miniconda3\\lib\\site-packages\\sklearn\\model_selection\\_validation.py\", line 598, in _fit_and_score\n    estimator.fit(X_train, y_train, **fit_params)\n  File \"C:\\Users\\CPB06GameN\\miniconda3\\lib\\site-packages\\sklearn\\tree\\_classes.py\", line 903, in fit\n    super().fit(\n  File \"C:\\Users\\CPB06GameN\\miniconda3\\lib\\site-packages\\sklearn\\tree\\_classes.py\", line 238, in fit\n    raise ValueError(\"min_samples_split must be an integer \"\nValueError: min_samples_split must be an integer greater than 1 or a float in (0.0, 1.0]; got the integer 1\n\n  warnings.warn(\"Estimator fit failed. The score on this train-test\"\nC:\\Users\\CPB06GameN\\miniconda3\\lib\\site-packages\\sklearn\\model_selection\\_validation.py:615: FitFailedWarning: Estimator fit failed. The score on this train-test partition for these parameters will be set to nan. Details: \nTraceback (most recent call last):\n  File \"C:\\Users\\CPB06GameN\\miniconda3\\lib\\site-packages\\sklearn\\model_selection\\_validation.py\", line 598, in _fit_and_score\n    estimator.fit(X_train, y_train, **fit_params)\n  File \"C:\\Users\\CPB06GameN\\miniconda3\\lib\\site-packages\\sklearn\\tree\\_classes.py\", line 903, in fit\n    super().fit(\n  File \"C:\\Users\\CPB06GameN\\miniconda3\\lib\\site-packages\\sklearn\\tree\\_classes.py\", line 238, in fit\n    raise ValueError(\"min_samples_split must be an integer \"\nValueError: min_samples_split must be an integer greater than 1 or a float in (0.0, 1.0]; got the integer 1\n\n  warnings.warn(\"Estimator fit failed. The score on this train-test\"\nC:\\Users\\CPB06GameN\\miniconda3\\lib\\site-packages\\sklearn\\model_selection\\_validation.py:615: FitFailedWarning: Estimator fit failed. The score on this train-test partition for these parameters will be set to nan. Details: \nTraceback (most recent call last):\n  File \"C:\\Users\\CPB06GameN\\miniconda3\\lib\\site-packages\\sklearn\\model_selection\\_validation.py\", line 598, in _fit_and_score\n    estimator.fit(X_train, y_train, **fit_params)\n  File \"C:\\Users\\CPB06GameN\\miniconda3\\lib\\site-packages\\sklearn\\tree\\_classes.py\", line 903, in fit\n    super().fit(\n  File \"C:\\Users\\CPB06GameN\\miniconda3\\lib\\site-packages\\sklearn\\tree\\_classes.py\", line 238, in fit\n    raise ValueError(\"min_samples_split must be an integer \"\nValueError: min_samples_split must be an integer greater than 1 or a float in (0.0, 1.0]; got the integer 1\n\n  warnings.warn(\"Estimator fit failed. The score on this train-test\"\nC:\\Users\\CPB06GameN\\miniconda3\\lib\\site-packages\\sklearn\\model_selection\\_validation.py:615: FitFailedWarning: Estimator fit failed. The score on this train-test partition for these parameters will be set to nan. Details: \nTraceback (most recent call last):\n  File \"C:\\Users\\CPB06GameN\\miniconda3\\lib\\site-packages\\sklearn\\model_selection\\_validation.py\", line 598, in _fit_and_score\n    estimator.fit(X_train, y_train, **fit_params)\n  File \"C:\\Users\\CPB06GameN\\miniconda3\\lib\\site-packages\\sklearn\\tree\\_classes.py\", line 903, in fit\n    super().fit(\n  File \"C:\\Users\\CPB06GameN\\miniconda3\\lib\\site-packages\\sklearn\\tree\\_classes.py\", line 238, in fit\n    raise ValueError(\"min_samples_split must be an integer \"\nValueError: min_samples_split must be an integer greater than 1 or a float in (0.0, 1.0]; got the integer 1\n\n  warnings.warn(\"Estimator fit failed. The score on this train-test\"\nC:\\Users\\CPB06GameN\\miniconda3\\lib\\site-packages\\sklearn\\model_selection\\_search.py:922: UserWarning: One or more of the test scores are non-finite: [       nan 0.95833333 0.95833333        nan 0.95833333 0.95833333\n        nan 0.96666667 0.95833333]\n  warnings.warn(\n"
     ]
    },
    {
     "output_type": "execute_result",
     "data": {
      "text/plain": [
       "GridSearchCV(cv=5, estimator=DecisionTreeClassifier(random_state=2021),\n",
       "             param_grid={'max_depth': [2, 3, 4],\n",
       "                         'min_samples_split': [1, 2, 3]})"
      ]
     },
     "metadata": {},
     "execution_count": 12
    }
   ],
   "source": [
    "grid_dtc.fit(X_train, y_train)"
   ]
  },
  {
   "cell_type": "code",
   "execution_count": 13,
   "metadata": {},
   "outputs": [
    {
     "output_type": "execute_result",
     "data": {
      "text/plain": [
       "0.9666666666666668"
      ]
     },
     "metadata": {},
     "execution_count": 13
    }
   ],
   "source": [
    "grid_dtc.best_score_"
   ]
  },
  {
   "cell_type": "code",
   "execution_count": 14,
   "metadata": {},
   "outputs": [
    {
     "output_type": "execute_result",
     "data": {
      "text/plain": [
       "{'max_depth': 4, 'min_samples_split': 2}"
      ]
     },
     "metadata": {},
     "execution_count": 14
    }
   ],
   "source": [
    "grid_dtc.best_params_"
   ]
  },
  {
   "cell_type": "code",
   "execution_count": 15,
   "metadata": {},
   "outputs": [],
   "source": [
    "estimator = grid_dtc.best_estimator_"
   ]
  },
  {
   "source": [
    "- 모델 평가"
   ],
   "cell_type": "markdown",
   "metadata": {}
  },
  {
   "cell_type": "code",
   "execution_count": 16,
   "metadata": {},
   "outputs": [
    {
     "output_type": "execute_result",
     "data": {
      "text/plain": [
       "0.9"
      ]
     },
     "metadata": {},
     "execution_count": 16
    }
   ],
   "source": [
    "from sklearn.metrics import accuracy_score\n",
    "pred = estimator.predict(X_test)\n",
    "accuracy_score(y_test, pred)"
   ]
  },
  {
   "source": [
    "### One-0hot encoding을 하는 경우"
   ],
   "cell_type": "markdown",
   "metadata": {}
  },
  {
   "cell_type": "code",
   "execution_count": 17,
   "metadata": {},
   "outputs": [
    {
     "output_type": "execute_result",
     "data": {
      "text/plain": [
       "(150,)"
      ]
     },
     "metadata": {},
     "execution_count": 17
    }
   ],
   "source": [
    "iris.target.shape"
   ]
  },
  {
   "cell_type": "code",
   "execution_count": 18,
   "metadata": {},
   "outputs": [
    {
     "output_type": "execute_result",
     "data": {
      "text/plain": [
       "(150, 3)"
      ]
     },
     "metadata": {},
     "execution_count": 18
    }
   ],
   "source": [
    "from sklearn.preprocessing import OneHotEncoder\n",
    "encoder = OneHotEncoder()\n",
    "classes = encoder.fit_transform(iris.target.reshape(-1,1))\n",
    "classes.shape"
   ]
  },
  {
   "cell_type": "code",
   "execution_count": 19,
   "metadata": {},
   "outputs": [],
   "source": [
    "X_train, X_test, Y_train, Y_test = train_test_split(\n",
    "    iris_scaled, classes, stratify=classes.toarray(),\n",
    "    test_size=0.2, random_state=2021\n",
    ")"
   ]
  },
  {
   "cell_type": "code",
   "execution_count": 20,
   "metadata": {},
   "outputs": [
    {
     "output_type": "execute_result",
     "data": {
      "text/plain": [
       "((120, 4), (30, 4), (120, 3), (30, 3))"
      ]
     },
     "metadata": {},
     "execution_count": 20
    }
   ],
   "source": [
    "X_train.shape, X_test.shape, Y_train.shape, Y_test.shape"
   ]
  },
  {
   "cell_type": "code",
   "execution_count": 21,
   "metadata": {},
   "outputs": [
    {
     "output_type": "execute_result",
     "data": {
      "text/plain": [
       "array([[0., 0., 1.],\n",
       "       [0., 1., 0.],\n",
       "       [0., 1., 0.],\n",
       "       [1., 0., 0.],\n",
       "       [0., 0., 1.]])"
      ]
     },
     "metadata": {},
     "execution_count": 21
    }
   ],
   "source": [
    "Y_test[:5].toarray()"
   ]
  },
  {
   "cell_type": "code",
   "execution_count": 22,
   "metadata": {},
   "outputs": [],
   "source": [
    "dtc = DecisionTreeClassifier(random_state=2021)\n",
    "grid_dtc = GridSearchCV(dtc, param_grid=params, cv=5, scoring='accuracy')"
   ]
  },
  {
   "cell_type": "code",
   "execution_count": 23,
   "metadata": {},
   "outputs": [
    {
     "output_type": "stream",
     "name": "stderr",
     "text": [
      "C:\\Users\\CPB06GameN\\miniconda3\\lib\\site-packages\\sklearn\\model_selection\\_validation.py:615: FitFailedWarning: Estimator fit failed. The score on this train-test partition for these parameters will be set to nan. Details: \nTraceback (most recent call last):\n  File \"C:\\Users\\CPB06GameN\\miniconda3\\lib\\site-packages\\sklearn\\model_selection\\_validation.py\", line 598, in _fit_and_score\n    estimator.fit(X_train, y_train, **fit_params)\n  File \"C:\\Users\\CPB06GameN\\miniconda3\\lib\\site-packages\\sklearn\\tree\\_classes.py\", line 903, in fit\n    super().fit(\n  File \"C:\\Users\\CPB06GameN\\miniconda3\\lib\\site-packages\\sklearn\\tree\\_classes.py\", line 238, in fit\n    raise ValueError(\"min_samples_split must be an integer \"\nValueError: min_samples_split must be an integer greater than 1 or a float in (0.0, 1.0]; got the integer 1\n\n  warnings.warn(\"Estimator fit failed. The score on this train-test\"\nC:\\Users\\CPB06GameN\\miniconda3\\lib\\site-packages\\sklearn\\model_selection\\_validation.py:615: FitFailedWarning: Estimator fit failed. The score on this train-test partition for these parameters will be set to nan. Details: \nTraceback (most recent call last):\n  File \"C:\\Users\\CPB06GameN\\miniconda3\\lib\\site-packages\\sklearn\\model_selection\\_validation.py\", line 598, in _fit_and_score\n    estimator.fit(X_train, y_train, **fit_params)\n  File \"C:\\Users\\CPB06GameN\\miniconda3\\lib\\site-packages\\sklearn\\tree\\_classes.py\", line 903, in fit\n    super().fit(\n  File \"C:\\Users\\CPB06GameN\\miniconda3\\lib\\site-packages\\sklearn\\tree\\_classes.py\", line 238, in fit\n    raise ValueError(\"min_samples_split must be an integer \"\nValueError: min_samples_split must be an integer greater than 1 or a float in (0.0, 1.0]; got the integer 1\n\n  warnings.warn(\"Estimator fit failed. The score on this train-test\"\nC:\\Users\\CPB06GameN\\miniconda3\\lib\\site-packages\\sklearn\\model_selection\\_validation.py:615: FitFailedWarning: Estimator fit failed. The score on this train-test partition for these parameters will be set to nan. Details: \nTraceback (most recent call last):\n  File \"C:\\Users\\CPB06GameN\\miniconda3\\lib\\site-packages\\sklearn\\model_selection\\_validation.py\", line 598, in _fit_and_score\n    estimator.fit(X_train, y_train, **fit_params)\n  File \"C:\\Users\\CPB06GameN\\miniconda3\\lib\\site-packages\\sklearn\\tree\\_classes.py\", line 903, in fit\n    super().fit(\n  File \"C:\\Users\\CPB06GameN\\miniconda3\\lib\\site-packages\\sklearn\\tree\\_classes.py\", line 238, in fit\n    raise ValueError(\"min_samples_split must be an integer \"\nValueError: min_samples_split must be an integer greater than 1 or a float in (0.0, 1.0]; got the integer 1\n\n  warnings.warn(\"Estimator fit failed. The score on this train-test\"\nC:\\Users\\CPB06GameN\\miniconda3\\lib\\site-packages\\sklearn\\model_selection\\_validation.py:615: FitFailedWarning: Estimator fit failed. The score on this train-test partition for these parameters will be set to nan. Details: \nTraceback (most recent call last):\n  File \"C:\\Users\\CPB06GameN\\miniconda3\\lib\\site-packages\\sklearn\\model_selection\\_validation.py\", line 598, in _fit_and_score\n    estimator.fit(X_train, y_train, **fit_params)\n  File \"C:\\Users\\CPB06GameN\\miniconda3\\lib\\site-packages\\sklearn\\tree\\_classes.py\", line 903, in fit\n    super().fit(\n  File \"C:\\Users\\CPB06GameN\\miniconda3\\lib\\site-packages\\sklearn\\tree\\_classes.py\", line 238, in fit\n    raise ValueError(\"min_samples_split must be an integer \"\nValueError: min_samples_split must be an integer greater than 1 or a float in (0.0, 1.0]; got the integer 1\n\n  warnings.warn(\"Estimator fit failed. The score on this train-test\"\nC:\\Users\\CPB06GameN\\miniconda3\\lib\\site-packages\\sklearn\\model_selection\\_validation.py:615: FitFailedWarning: Estimator fit failed. The score on this train-test partition for these parameters will be set to nan. Details: \nTraceback (most recent call last):\n  File \"C:\\Users\\CPB06GameN\\miniconda3\\lib\\site-packages\\sklearn\\model_selection\\_validation.py\", line 598, in _fit_and_score\n    estimator.fit(X_train, y_train, **fit_params)\n  File \"C:\\Users\\CPB06GameN\\miniconda3\\lib\\site-packages\\sklearn\\tree\\_classes.py\", line 903, in fit\n    super().fit(\n  File \"C:\\Users\\CPB06GameN\\miniconda3\\lib\\site-packages\\sklearn\\tree\\_classes.py\", line 238, in fit\n    raise ValueError(\"min_samples_split must be an integer \"\nValueError: min_samples_split must be an integer greater than 1 or a float in (0.0, 1.0]; got the integer 1\n\n  warnings.warn(\"Estimator fit failed. The score on this train-test\"\nC:\\Users\\CPB06GameN\\miniconda3\\lib\\site-packages\\sklearn\\model_selection\\_validation.py:615: FitFailedWarning: Estimator fit failed. The score on this train-test partition for these parameters will be set to nan. Details: \nTraceback (most recent call last):\n  File \"C:\\Users\\CPB06GameN\\miniconda3\\lib\\site-packages\\sklearn\\model_selection\\_validation.py\", line 598, in _fit_and_score\n    estimator.fit(X_train, y_train, **fit_params)\n  File \"C:\\Users\\CPB06GameN\\miniconda3\\lib\\site-packages\\sklearn\\tree\\_classes.py\", line 903, in fit\n    super().fit(\n  File \"C:\\Users\\CPB06GameN\\miniconda3\\lib\\site-packages\\sklearn\\tree\\_classes.py\", line 238, in fit\n    raise ValueError(\"min_samples_split must be an integer \"\nValueError: min_samples_split must be an integer greater than 1 or a float in (0.0, 1.0]; got the integer 1\n\n  warnings.warn(\"Estimator fit failed. The score on this train-test\"\nC:\\Users\\CPB06GameN\\miniconda3\\lib\\site-packages\\sklearn\\model_selection\\_validation.py:615: FitFailedWarning: Estimator fit failed. The score on this train-test partition for these parameters will be set to nan. Details: \nTraceback (most recent call last):\n  File \"C:\\Users\\CPB06GameN\\miniconda3\\lib\\site-packages\\sklearn\\model_selection\\_validation.py\", line 598, in _fit_and_score\n    estimator.fit(X_train, y_train, **fit_params)\n  File \"C:\\Users\\CPB06GameN\\miniconda3\\lib\\site-packages\\sklearn\\tree\\_classes.py\", line 903, in fit\n    super().fit(\n  File \"C:\\Users\\CPB06GameN\\miniconda3\\lib\\site-packages\\sklearn\\tree\\_classes.py\", line 238, in fit\n    raise ValueError(\"min_samples_split must be an integer \"\nValueError: min_samples_split must be an integer greater than 1 or a float in (0.0, 1.0]; got the integer 1\n\n  warnings.warn(\"Estimator fit failed. The score on this train-test\"\nC:\\Users\\CPB06GameN\\miniconda3\\lib\\site-packages\\sklearn\\model_selection\\_validation.py:615: FitFailedWarning: Estimator fit failed. The score on this train-test partition for these parameters will be set to nan. Details: \nTraceback (most recent call last):\n  File \"C:\\Users\\CPB06GameN\\miniconda3\\lib\\site-packages\\sklearn\\model_selection\\_validation.py\", line 598, in _fit_and_score\n    estimator.fit(X_train, y_train, **fit_params)\n  File \"C:\\Users\\CPB06GameN\\miniconda3\\lib\\site-packages\\sklearn\\tree\\_classes.py\", line 903, in fit\n    super().fit(\n  File \"C:\\Users\\CPB06GameN\\miniconda3\\lib\\site-packages\\sklearn\\tree\\_classes.py\", line 238, in fit\n    raise ValueError(\"min_samples_split must be an integer \"\nValueError: min_samples_split must be an integer greater than 1 or a float in (0.0, 1.0]; got the integer 1\n\n  warnings.warn(\"Estimator fit failed. The score on this train-test\"\nC:\\Users\\CPB06GameN\\miniconda3\\lib\\site-packages\\sklearn\\model_selection\\_validation.py:615: FitFailedWarning: Estimator fit failed. The score on this train-test partition for these parameters will be set to nan. Details: \nTraceback (most recent call last):\n  File \"C:\\Users\\CPB06GameN\\miniconda3\\lib\\site-packages\\sklearn\\model_selection\\_validation.py\", line 598, in _fit_and_score\n    estimator.fit(X_train, y_train, **fit_params)\n  File \"C:\\Users\\CPB06GameN\\miniconda3\\lib\\site-packages\\sklearn\\tree\\_classes.py\", line 903, in fit\n    super().fit(\n  File \"C:\\Users\\CPB06GameN\\miniconda3\\lib\\site-packages\\sklearn\\tree\\_classes.py\", line 238, in fit\n    raise ValueError(\"min_samples_split must be an integer \"\nValueError: min_samples_split must be an integer greater than 1 or a float in (0.0, 1.0]; got the integer 1\n\n  warnings.warn(\"Estimator fit failed. The score on this train-test\"\nC:\\Users\\CPB06GameN\\miniconda3\\lib\\site-packages\\sklearn\\model_selection\\_validation.py:615: FitFailedWarning: Estimator fit failed. The score on this train-test partition for these parameters will be set to nan. Details: \nTraceback (most recent call last):\n  File \"C:\\Users\\CPB06GameN\\miniconda3\\lib\\site-packages\\sklearn\\model_selection\\_validation.py\", line 598, in _fit_and_score\n    estimator.fit(X_train, y_train, **fit_params)\n  File \"C:\\Users\\CPB06GameN\\miniconda3\\lib\\site-packages\\sklearn\\tree\\_classes.py\", line 903, in fit\n    super().fit(\n  File \"C:\\Users\\CPB06GameN\\miniconda3\\lib\\site-packages\\sklearn\\tree\\_classes.py\", line 238, in fit\n    raise ValueError(\"min_samples_split must be an integer \"\nValueError: min_samples_split must be an integer greater than 1 or a float in (0.0, 1.0]; got the integer 1\n\n  warnings.warn(\"Estimator fit failed. The score on this train-test\"\nC:\\Users\\CPB06GameN\\miniconda3\\lib\\site-packages\\sklearn\\model_selection\\_validation.py:615: FitFailedWarning: Estimator fit failed. The score on this train-test partition for these parameters will be set to nan. Details: \nTraceback (most recent call last):\n  File \"C:\\Users\\CPB06GameN\\miniconda3\\lib\\site-packages\\sklearn\\model_selection\\_validation.py\", line 598, in _fit_and_score\n    estimator.fit(X_train, y_train, **fit_params)\n  File \"C:\\Users\\CPB06GameN\\miniconda3\\lib\\site-packages\\sklearn\\tree\\_classes.py\", line 903, in fit\n    super().fit(\n  File \"C:\\Users\\CPB06GameN\\miniconda3\\lib\\site-packages\\sklearn\\tree\\_classes.py\", line 238, in fit\n    raise ValueError(\"min_samples_split must be an integer \"\nValueError: min_samples_split must be an integer greater than 1 or a float in (0.0, 1.0]; got the integer 1\n\n  warnings.warn(\"Estimator fit failed. The score on this train-test\"\nC:\\Users\\CPB06GameN\\miniconda3\\lib\\site-packages\\sklearn\\model_selection\\_validation.py:615: FitFailedWarning: Estimator fit failed. The score on this train-test partition for these parameters will be set to nan. Details: \nTraceback (most recent call last):\n  File \"C:\\Users\\CPB06GameN\\miniconda3\\lib\\site-packages\\sklearn\\model_selection\\_validation.py\", line 598, in _fit_and_score\n    estimator.fit(X_train, y_train, **fit_params)\n  File \"C:\\Users\\CPB06GameN\\miniconda3\\lib\\site-packages\\sklearn\\tree\\_classes.py\", line 903, in fit\n    super().fit(\n  File \"C:\\Users\\CPB06GameN\\miniconda3\\lib\\site-packages\\sklearn\\tree\\_classes.py\", line 238, in fit\n    raise ValueError(\"min_samples_split must be an integer \"\nValueError: min_samples_split must be an integer greater than 1 or a float in (0.0, 1.0]; got the integer 1\n\n  warnings.warn(\"Estimator fit failed. The score on this train-test\"\nC:\\Users\\CPB06GameN\\miniconda3\\lib\\site-packages\\sklearn\\model_selection\\_validation.py:615: FitFailedWarning: Estimator fit failed. The score on this train-test partition for these parameters will be set to nan. Details: \nTraceback (most recent call last):\n  File \"C:\\Users\\CPB06GameN\\miniconda3\\lib\\site-packages\\sklearn\\model_selection\\_validation.py\", line 598, in _fit_and_score\n    estimator.fit(X_train, y_train, **fit_params)\n  File \"C:\\Users\\CPB06GameN\\miniconda3\\lib\\site-packages\\sklearn\\tree\\_classes.py\", line 903, in fit\n    super().fit(\n  File \"C:\\Users\\CPB06GameN\\miniconda3\\lib\\site-packages\\sklearn\\tree\\_classes.py\", line 238, in fit\n    raise ValueError(\"min_samples_split must be an integer \"\nValueError: min_samples_split must be an integer greater than 1 or a float in (0.0, 1.0]; got the integer 1\n\n  warnings.warn(\"Estimator fit failed. The score on this train-test\"\nC:\\Users\\CPB06GameN\\miniconda3\\lib\\site-packages\\sklearn\\model_selection\\_validation.py:615: FitFailedWarning: Estimator fit failed. The score on this train-test partition for these parameters will be set to nan. Details: \nTraceback (most recent call last):\n  File \"C:\\Users\\CPB06GameN\\miniconda3\\lib\\site-packages\\sklearn\\model_selection\\_validation.py\", line 598, in _fit_and_score\n    estimator.fit(X_train, y_train, **fit_params)\n  File \"C:\\Users\\CPB06GameN\\miniconda3\\lib\\site-packages\\sklearn\\tree\\_classes.py\", line 903, in fit\n    super().fit(\n  File \"C:\\Users\\CPB06GameN\\miniconda3\\lib\\site-packages\\sklearn\\tree\\_classes.py\", line 238, in fit\n    raise ValueError(\"min_samples_split must be an integer \"\nValueError: min_samples_split must be an integer greater than 1 or a float in (0.0, 1.0]; got the integer 1\n\n  warnings.warn(\"Estimator fit failed. The score on this train-test\"\nC:\\Users\\CPB06GameN\\miniconda3\\lib\\site-packages\\sklearn\\model_selection\\_validation.py:615: FitFailedWarning: Estimator fit failed. The score on this train-test partition for these parameters will be set to nan. Details: \nTraceback (most recent call last):\n  File \"C:\\Users\\CPB06GameN\\miniconda3\\lib\\site-packages\\sklearn\\model_selection\\_validation.py\", line 598, in _fit_and_score\n    estimator.fit(X_train, y_train, **fit_params)\n  File \"C:\\Users\\CPB06GameN\\miniconda3\\lib\\site-packages\\sklearn\\tree\\_classes.py\", line 903, in fit\n    super().fit(\n  File \"C:\\Users\\CPB06GameN\\miniconda3\\lib\\site-packages\\sklearn\\tree\\_classes.py\", line 238, in fit\n    raise ValueError(\"min_samples_split must be an integer \"\nValueError: min_samples_split must be an integer greater than 1 or a float in (0.0, 1.0]; got the integer 1\n\n  warnings.warn(\"Estimator fit failed. The score on this train-test\"\nC:\\Users\\CPB06GameN\\miniconda3\\lib\\site-packages\\sklearn\\model_selection\\_search.py:922: UserWarning: One or more of the test scores are non-finite: [       nan 0.925      0.925             nan 0.925      0.925\n        nan 0.93333333 0.925     ]\n  warnings.warn(\n"
     ]
    },
    {
     "output_type": "execute_result",
     "data": {
      "text/plain": [
       "GridSearchCV(cv=5, estimator=DecisionTreeClassifier(random_state=2021),\n",
       "             param_grid={'max_depth': [2, 3, 4],\n",
       "                         'min_samples_split': [1, 2, 3]},\n",
       "             scoring='accuracy')"
      ]
     },
     "metadata": {},
     "execution_count": 23
    }
   ],
   "source": [
    "grid_dtc.fit(X_train, Y_train.toarray())"
   ]
  },
  {
   "cell_type": "code",
   "execution_count": 24,
   "metadata": {},
   "outputs": [],
   "source": [
    "estimator = grid_dtc.best_estimator_\n",
    "pred = grid_dtc.predict(X_test)"
   ]
  },
  {
   "cell_type": "code",
   "execution_count": 25,
   "metadata": {},
   "outputs": [
    {
     "output_type": "execute_result",
     "data": {
      "text/plain": [
       "(30, 3)"
      ]
     },
     "metadata": {},
     "execution_count": 25
    }
   ],
   "source": [
    "pred.shape"
   ]
  },
  {
   "cell_type": "code",
   "execution_count": 26,
   "metadata": {},
   "outputs": [
    {
     "output_type": "execute_result",
     "data": {
      "text/plain": [
       "0.9333333333333333"
      ]
     },
     "metadata": {},
     "execution_count": 26
    }
   ],
   "source": [
    "accuracy_score(Y_test.toarray(), pred)"
   ]
  },
  {
   "cell_type": "code",
   "execution_count": null,
   "metadata": {},
   "outputs": [],
   "source": []
  }
 ]
}